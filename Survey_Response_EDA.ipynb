{
 "cells": [
  {
   "cell_type": "markdown",
   "metadata": {},
   "source": [
    "## EDA for Hours Spent on Labs Survey"
   ]
  },
  {
   "cell_type": "code",
   "execution_count": 44,
   "metadata": {},
   "outputs": [],
   "source": [
    "suppressPackageStartupMessages(library(tidyverse))"
   ]
  },
  {
   "cell_type": "markdown",
   "metadata": {},
   "source": [
    "This analysis will investigate the following question:\n",
    "\n",
    "*How does the number of times a Master of Data Science (MDS) student goes to office hours affect the average number of hours they spend working on labs per week?*\n",
    "\n",
    "based on the results collected from this [survey](https://ubc-mds.slack.com/archives/C24HU8X0W/p1554330074049900). We stored our raw data in this [repo]()."
   ]
  },
  {
   "cell_type": "code",
   "execution_count": 39,
   "metadata": {},
   "outputs": [],
   "source": [
    "# Load survey data\n",
    "rawdata = read.csv(\"Hours_Spent_On_Labs_Survey_Final.csv\") "
   ]
  },
  {
   "cell_type": "code",
   "execution_count": 45,
   "metadata": {},
   "outputs": [],
   "source": [
    "# Data cleaning\n",
    "raw_df = data.frame(rawdata)\n",
    "row_to_remove = c(1:2)\n",
    "col_to_remove = c(1:18, 20, 24, 29)\n",
    "df = raw_df[-row_to_remove, -col_to_remove]\n",
    "names(df) <- c(\"attend_OH\", \"lab_hours\", \"group\", \"academic\", \"yrs_out_school\", \"program\", \"stat\", \"optional\")\n",
    "df <- df %>% mutate(group = as.factor(group), academic = as.factor(academic)) %>% select (lab_hours, everything())"
   ]
  },
  {
   "cell_type": "code",
   "execution_count": 46,
   "metadata": {},
   "outputs": [],
   "source": [
    "# write.csv(df, file = \"clean_data.csv\")"
   ]
  },
  {
   "cell_type": "code",
   "execution_count": null,
   "metadata": {},
   "outputs": [],
   "source": []
  }
 ],
 "metadata": {
  "kernelspec": {
   "display_name": "R",
   "language": "R",
   "name": "ir"
  },
  "language_info": {
   "codemirror_mode": "r",
   "file_extension": ".r",
   "mimetype": "text/x-r-source",
   "name": "R",
   "pygments_lexer": "r",
   "version": "3.5.1"
  }
 },
 "nbformat": 4,
 "nbformat_minor": 2
}
